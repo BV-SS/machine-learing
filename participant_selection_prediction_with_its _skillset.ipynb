{
 "cells": [
  {
   "cell_type": "code",
   "execution_count": 24,
   "metadata": {},
   "outputs": [],
   "source": [
    "import pandas as pd"
   ]
  },
  {
   "cell_type": "code",
   "execution_count": 25,
   "metadata": {},
   "outputs": [],
   "source": [
    "import numpy as np\n",
    "import matplotlib as plt\n",
    "from sklearn import preprocessing\n",
    "from sklearn.cluster import KMeans\n",
    "from sklearn.metrics import accuracy_score\n",
    "from sklearn.ensemble import RandomForestRegressor\n",
    "from sklearn.tree import DecisionTreeClassifier\n",
    "from sklearn.linear_model import LogisticRegression\n",
    "from sklearn import svm\n",
    "from sklearn.model_selection import train_test_split"
   ]
  },
  {
   "cell_type": "code",
   "execution_count": 26,
   "metadata": {},
   "outputs": [],
   "source": [
    "data=pd.read_csv(r'C:\\Users\\BHARTI VERMA\\Downloads\\sample_data_v4.csv')"
   ]
  },
  {
   "cell_type": "code",
   "execution_count": 27,
   "metadata": {},
   "outputs": [
    {
     "data": {
      "text/plain": [
       "pandas.core.frame.DataFrame"
      ]
     },
     "execution_count": 27,
     "metadata": {},
     "output_type": "execute_result"
    }
   ],
   "source": [
    "type(data)"
   ]
  },
  {
   "cell_type": "code",
   "execution_count": 28,
   "metadata": {},
   "outputs": [
    {
     "data": {
      "text/html": [
       "<div>\n",
       "<style scoped>\n",
       "    .dataframe tbody tr th:only-of-type {\n",
       "        vertical-align: middle;\n",
       "    }\n",
       "\n",
       "    .dataframe tbody tr th {\n",
       "        vertical-align: top;\n",
       "    }\n",
       "\n",
       "    .dataframe thead th {\n",
       "        text-align: right;\n",
       "    }\n",
       "</style>\n",
       "<table border=\"1\" class=\"dataframe\">\n",
       "  <thead>\n",
       "    <tr style=\"text-align: right;\">\n",
       "      <th></th>\n",
       "      <th>Application ID</th>\n",
       "      <th>Current City</th>\n",
       "      <th>Other skills</th>\n",
       "      <th>Institute</th>\n",
       "      <th>Degree</th>\n",
       "      <th>Stream</th>\n",
       "      <th>Current Year Of Graduation</th>\n",
       "      <th>Performance_PG</th>\n",
       "      <th>Performance_UG</th>\n",
       "      <th>Performance_12</th>\n",
       "      <th>Performance_10</th>\n",
       "      <th>ML</th>\n",
       "      <th>web-d</th>\n",
       "      <th>fullstack-D</th>\n",
       "      <th>status</th>\n",
       "    </tr>\n",
       "  </thead>\n",
       "  <tbody>\n",
       "    <tr>\n",
       "      <th>0</th>\n",
       "      <td>MS0001</td>\n",
       "      <td>Pune</td>\n",
       "      <td>Machine Learning, Python</td>\n",
       "      <td>Don Bosco Institute of Technology</td>\n",
       "      <td>Bachelor of Engineering (B.E)</td>\n",
       "      <td>Mechanical Engineering</td>\n",
       "      <td>2018</td>\n",
       "      <td>NaN</td>\n",
       "      <td>8.13/10</td>\n",
       "      <td>NaN</td>\n",
       "      <td>NaN</td>\n",
       "      <td>1</td>\n",
       "      <td>0</td>\n",
       "      <td>0</td>\n",
       "      <td>selected</td>\n",
       "    </tr>\n",
       "    <tr>\n",
       "      <th>1</th>\n",
       "      <td>MS0002</td>\n",
       "      <td>Pune</td>\n",
       "      <td>Machine Learning, Python</td>\n",
       "      <td>PES MCOE, Pune</td>\n",
       "      <td>Bachelor of Engineering (B.E)</td>\n",
       "      <td>Electronics and Telecommunication Engineering ...</td>\n",
       "      <td>2018</td>\n",
       "      <td>NaN</td>\n",
       "      <td>66.00/100</td>\n",
       "      <td>NaN</td>\n",
       "      <td>NaN</td>\n",
       "      <td>1</td>\n",
       "      <td>0</td>\n",
       "      <td>0</td>\n",
       "      <td>selected</td>\n",
       "    </tr>\n",
       "    <tr>\n",
       "      <th>2</th>\n",
       "      <td>MS0003</td>\n",
       "      <td>Navi Mumbai</td>\n",
       "      <td>Data Analytics, Data Science, Machine Learning...</td>\n",
       "      <td>Imarticus Learning</td>\n",
       "      <td>PG Diploma in Data Science</td>\n",
       "      <td>NaN</td>\n",
       "      <td>2020</td>\n",
       "      <td>NaN</td>\n",
       "      <td>7.00/10</td>\n",
       "      <td>NaN</td>\n",
       "      <td>NaN</td>\n",
       "      <td>1</td>\n",
       "      <td>0</td>\n",
       "      <td>0</td>\n",
       "      <td>selected</td>\n",
       "    </tr>\n",
       "    <tr>\n",
       "      <th>3</th>\n",
       "      <td>MS0004</td>\n",
       "      <td>Bangalore</td>\n",
       "      <td>Data Analytics, Algorithms, C Programming, Dat...</td>\n",
       "      <td>Dayananda Sagar Institutions</td>\n",
       "      <td>Bachelor of Technology (B.Tech)</td>\n",
       "      <td>Information Technology</td>\n",
       "      <td>2022</td>\n",
       "      <td>NaN</td>\n",
       "      <td>NaN</td>\n",
       "      <td>86.80/86.80</td>\n",
       "      <td>10.00/10.00</td>\n",
       "      <td>1</td>\n",
       "      <td>0</td>\n",
       "      <td>0</td>\n",
       "      <td>selected</td>\n",
       "    </tr>\n",
       "    <tr>\n",
       "      <th>4</th>\n",
       "      <td>MS0005</td>\n",
       "      <td>Mumbai</td>\n",
       "      <td>Artifical Intelligence, Computer Vision, Deep ...</td>\n",
       "      <td>Pillai Hoc College Of Engineering And Technolo...</td>\n",
       "      <td>Bachelor of Engineering (B.E)</td>\n",
       "      <td>Information Technology</td>\n",
       "      <td>2020</td>\n",
       "      <td>NaN</td>\n",
       "      <td>6.22/10</td>\n",
       "      <td>NaN</td>\n",
       "      <td>NaN</td>\n",
       "      <td>1</td>\n",
       "      <td>0</td>\n",
       "      <td>0</td>\n",
       "      <td>selected</td>\n",
       "    </tr>\n",
       "  </tbody>\n",
       "</table>\n",
       "</div>"
      ],
      "text/plain": [
       "  Application ID Current City  \\\n",
       "0         MS0001         Pune   \n",
       "1         MS0002         Pune   \n",
       "2         MS0003  Navi Mumbai   \n",
       "3         MS0004    Bangalore   \n",
       "4         MS0005       Mumbai   \n",
       "\n",
       "                                        Other skills  \\\n",
       "0                           Machine Learning, Python   \n",
       "1                           Machine Learning, Python   \n",
       "2  Data Analytics, Data Science, Machine Learning...   \n",
       "3  Data Analytics, Algorithms, C Programming, Dat...   \n",
       "4  Artifical Intelligence, Computer Vision, Deep ...   \n",
       "\n",
       "                                           Institute  \\\n",
       "0                  Don Bosco Institute of Technology   \n",
       "1                                     PES MCOE, Pune   \n",
       "2                                 Imarticus Learning   \n",
       "3                       Dayananda Sagar Institutions   \n",
       "4  Pillai Hoc College Of Engineering And Technolo...   \n",
       "\n",
       "                            Degree  \\\n",
       "0    Bachelor of Engineering (B.E)   \n",
       "1    Bachelor of Engineering (B.E)   \n",
       "2       PG Diploma in Data Science   \n",
       "3  Bachelor of Technology (B.Tech)   \n",
       "4    Bachelor of Engineering (B.E)   \n",
       "\n",
       "                                              Stream  \\\n",
       "0                             Mechanical Engineering   \n",
       "1  Electronics and Telecommunication Engineering ...   \n",
       "2                                                NaN   \n",
       "3                             Information Technology   \n",
       "4                             Information Technology   \n",
       "\n",
       "   Current Year Of Graduation Performance_PG Performance_UG Performance_12  \\\n",
       "0                        2018            NaN        8.13/10            NaN   \n",
       "1                        2018            NaN      66.00/100            NaN   \n",
       "2                        2020            NaN        7.00/10            NaN   \n",
       "3                        2022            NaN            NaN    86.80/86.80   \n",
       "4                        2020            NaN        6.22/10            NaN   \n",
       "\n",
       "  Performance_10  ML  web-d  fullstack-D    status  \n",
       "0            NaN   1      0            0  selected  \n",
       "1            NaN   1      0            0  selected  \n",
       "2            NaN   1      0            0  selected  \n",
       "3    10.00/10.00   1      0            0  selected  \n",
       "4            NaN   1      0            0  selected  "
      ]
     },
     "execution_count": 28,
     "metadata": {},
     "output_type": "execute_result"
    }
   ],
   "source": [
    "data.head()"
   ]
  },
  {
   "cell_type": "code",
   "execution_count": 29,
   "metadata": {},
   "outputs": [
    {
     "name": "stdout",
     "output_type": "stream",
     "text": [
      "data have shape (2168, 15)\n"
     ]
    }
   ],
   "source": [
    "print(\"data have shape\",data.shape)"
   ]
  },
  {
   "cell_type": "code",
   "execution_count": 30,
   "metadata": {},
   "outputs": [
    {
     "name": "stdout",
     "output_type": "stream",
     "text": [
      "features of data  :   Index(['Application ID', 'Current City', 'Other skills', 'Institute', 'Degree',\n",
      "       'Stream', 'Current Year Of Graduation', 'Performance_PG',\n",
      "       'Performance_UG', 'Performance_12', 'Performance_10', 'ML', 'web-d',\n",
      "       'fullstack-D', 'status'],\n",
      "      dtype='object')\n"
     ]
    }
   ],
   "source": [
    "print(\"features of data  :  \",data.columns)"
   ]
  },
  {
   "cell_type": "code",
   "execution_count": 31,
   "metadata": {},
   "outputs": [],
   "source": [
    "data.drop(['Application ID','Performance_PG',\n",
    "       'Performance_UG', 'Performance_12', 'Performance_10'],1,inplace=True)"
   ]
  },
  {
   "cell_type": "code",
   "execution_count": 32,
   "metadata": {},
   "outputs": [
    {
     "name": "stdout",
     "output_type": "stream",
     "text": [
      "new shape (2168, 10)\n"
     ]
    }
   ],
   "source": [
    "print(\"new shape\", data.shape)"
   ]
  },
  {
   "cell_type": "code",
   "execution_count": 33,
   "metadata": {},
   "outputs": [],
   "source": [
    "corr=data.corr()"
   ]
  },
  {
   "cell_type": "code",
   "execution_count": 34,
   "metadata": {},
   "outputs": [
    {
     "name": "stdout",
     "output_type": "stream",
     "text": [
      "new columns Index(['Current City', 'Other skills', 'Institute', 'Degree', 'Stream',\n",
      "       'Current Year Of Graduation', 'ML', 'web-d', 'fullstack-D', 'status'],\n",
      "      dtype='object')\n"
     ]
    }
   ],
   "source": [
    "print(\"new columns\", data.columns)"
   ]
  },
  {
   "cell_type": "code",
   "execution_count": 35,
   "metadata": {},
   "outputs": [
    {
     "name": "stderr",
     "output_type": "stream",
     "text": [
      "C:\\Users\\BHARTI VERMA\\Anaconda3\\lib\\site-packages\\matplotlib\\colors.py:479: RuntimeWarning: invalid value encountered in less\n",
      "  xa[xa < 0] = -1\n"
     ]
    },
    {
     "data": {
      "text/html": [
       "<style  type=\"text/css\" >\n",
       "    #T_48bb27ee_9d75_11ea_ab36_b00cd19dad64row0_col0 {\n",
       "            background-color:  #3b4cc0;\n",
       "            color:  #f1f1f1;\n",
       "        }    #T_48bb27ee_9d75_11ea_ab36_b00cd19dad64row0_col1 {\n",
       "            background-color:  #3b4cc0;\n",
       "            color:  #f1f1f1;\n",
       "        }    #T_48bb27ee_9d75_11ea_ab36_b00cd19dad64row0_col2 {\n",
       "            background-color:  #3b4cc0;\n",
       "            color:  #f1f1f1;\n",
       "        }    #T_48bb27ee_9d75_11ea_ab36_b00cd19dad64row0_col3 {\n",
       "            background-color:  #3b4cc0;\n",
       "            color:  #f1f1f1;\n",
       "        }    #T_48bb27ee_9d75_11ea_ab36_b00cd19dad64row1_col0 {\n",
       "            background-color:  #3b4cc0;\n",
       "            color:  #f1f1f1;\n",
       "        }    #T_48bb27ee_9d75_11ea_ab36_b00cd19dad64row1_col1 {\n",
       "            background-color:  #3b4cc0;\n",
       "            color:  #f1f1f1;\n",
       "        }    #T_48bb27ee_9d75_11ea_ab36_b00cd19dad64row1_col2 {\n",
       "            background-color:  #3b4cc0;\n",
       "            color:  #f1f1f1;\n",
       "        }    #T_48bb27ee_9d75_11ea_ab36_b00cd19dad64row1_col3 {\n",
       "            background-color:  #3b4cc0;\n",
       "            color:  #f1f1f1;\n",
       "        }    #T_48bb27ee_9d75_11ea_ab36_b00cd19dad64row2_col0 {\n",
       "            background-color:  #3b4cc0;\n",
       "            color:  #f1f1f1;\n",
       "        }    #T_48bb27ee_9d75_11ea_ab36_b00cd19dad64row2_col1 {\n",
       "            background-color:  #3b4cc0;\n",
       "            color:  #f1f1f1;\n",
       "        }    #T_48bb27ee_9d75_11ea_ab36_b00cd19dad64row2_col2 {\n",
       "            background-color:  #3b4cc0;\n",
       "            color:  #f1f1f1;\n",
       "        }    #T_48bb27ee_9d75_11ea_ab36_b00cd19dad64row2_col3 {\n",
       "            background-color:  #3b4cc0;\n",
       "            color:  #f1f1f1;\n",
       "        }    #T_48bb27ee_9d75_11ea_ab36_b00cd19dad64row3_col0 {\n",
       "            background-color:  #3b4cc0;\n",
       "            color:  #f1f1f1;\n",
       "        }    #T_48bb27ee_9d75_11ea_ab36_b00cd19dad64row3_col1 {\n",
       "            background-color:  #3b4cc0;\n",
       "            color:  #f1f1f1;\n",
       "        }    #T_48bb27ee_9d75_11ea_ab36_b00cd19dad64row3_col2 {\n",
       "            background-color:  #3b4cc0;\n",
       "            color:  #f1f1f1;\n",
       "        }    #T_48bb27ee_9d75_11ea_ab36_b00cd19dad64row3_col3 {\n",
       "            background-color:  #3b4cc0;\n",
       "            color:  #f1f1f1;\n",
       "        }</style><table id=\"T_48bb27ee_9d75_11ea_ab36_b00cd19dad64\" ><thead>    <tr>        <th class=\"blank level0\" ></th>        <th class=\"col_heading level0 col0\" >Current Year Of Graduation</th>        <th class=\"col_heading level0 col1\" >ML</th>        <th class=\"col_heading level0 col2\" >web-d</th>        <th class=\"col_heading level0 col3\" >fullstack-D</th>    </tr></thead><tbody>\n",
       "                <tr>\n",
       "                        <th id=\"T_48bb27ee_9d75_11ea_ab36_b00cd19dad64level0_row0\" class=\"row_heading level0 row0\" >Current Year Of Graduation</th>\n",
       "                        <td id=\"T_48bb27ee_9d75_11ea_ab36_b00cd19dad64row0_col0\" class=\"data row0 col0\" >1</td>\n",
       "                        <td id=\"T_48bb27ee_9d75_11ea_ab36_b00cd19dad64row0_col1\" class=\"data row0 col1\" >0.033</td>\n",
       "                        <td id=\"T_48bb27ee_9d75_11ea_ab36_b00cd19dad64row0_col2\" class=\"data row0 col2\" >-0.017</td>\n",
       "                        <td id=\"T_48bb27ee_9d75_11ea_ab36_b00cd19dad64row0_col3\" class=\"data row0 col3\" >nan</td>\n",
       "            </tr>\n",
       "            <tr>\n",
       "                        <th id=\"T_48bb27ee_9d75_11ea_ab36_b00cd19dad64level0_row1\" class=\"row_heading level0 row1\" >ML</th>\n",
       "                        <td id=\"T_48bb27ee_9d75_11ea_ab36_b00cd19dad64row1_col0\" class=\"data row1 col0\" >0.033</td>\n",
       "                        <td id=\"T_48bb27ee_9d75_11ea_ab36_b00cd19dad64row1_col1\" class=\"data row1 col1\" >1</td>\n",
       "                        <td id=\"T_48bb27ee_9d75_11ea_ab36_b00cd19dad64row1_col2\" class=\"data row1 col2\" >-0.13</td>\n",
       "                        <td id=\"T_48bb27ee_9d75_11ea_ab36_b00cd19dad64row1_col3\" class=\"data row1 col3\" >nan</td>\n",
       "            </tr>\n",
       "            <tr>\n",
       "                        <th id=\"T_48bb27ee_9d75_11ea_ab36_b00cd19dad64level0_row2\" class=\"row_heading level0 row2\" >web-d</th>\n",
       "                        <td id=\"T_48bb27ee_9d75_11ea_ab36_b00cd19dad64row2_col0\" class=\"data row2 col0\" >-0.017</td>\n",
       "                        <td id=\"T_48bb27ee_9d75_11ea_ab36_b00cd19dad64row2_col1\" class=\"data row2 col1\" >-0.13</td>\n",
       "                        <td id=\"T_48bb27ee_9d75_11ea_ab36_b00cd19dad64row2_col2\" class=\"data row2 col2\" >1</td>\n",
       "                        <td id=\"T_48bb27ee_9d75_11ea_ab36_b00cd19dad64row2_col3\" class=\"data row2 col3\" >nan</td>\n",
       "            </tr>\n",
       "            <tr>\n",
       "                        <th id=\"T_48bb27ee_9d75_11ea_ab36_b00cd19dad64level0_row3\" class=\"row_heading level0 row3\" >fullstack-D</th>\n",
       "                        <td id=\"T_48bb27ee_9d75_11ea_ab36_b00cd19dad64row3_col0\" class=\"data row3 col0\" >nan</td>\n",
       "                        <td id=\"T_48bb27ee_9d75_11ea_ab36_b00cd19dad64row3_col1\" class=\"data row3 col1\" >nan</td>\n",
       "                        <td id=\"T_48bb27ee_9d75_11ea_ab36_b00cd19dad64row3_col2\" class=\"data row3 col2\" >nan</td>\n",
       "                        <td id=\"T_48bb27ee_9d75_11ea_ab36_b00cd19dad64row3_col3\" class=\"data row3 col3\" >nan</td>\n",
       "            </tr>\n",
       "    </tbody></table>"
      ],
      "text/plain": [
       "<pandas.io.formats.style.Styler at 0x22e61a33f98>"
      ]
     },
     "execution_count": 35,
     "metadata": {},
     "output_type": "execute_result"
    }
   ],
   "source": [
    "corr.style.background_gradient(cmap=\"coolwarm\").set_precision(2)"
   ]
  },
  {
   "cell_type": "code",
   "execution_count": 36,
   "metadata": {},
   "outputs": [],
   "source": [
    "lben=preprocessing.LabelEncoder()"
   ]
  },
  {
   "cell_type": "code",
   "execution_count": 37,
   "metadata": {},
   "outputs": [],
   "source": [
    "#converting string data to numerical data\n",
    "columns=['Current City', 'Other skills', 'Institute', 'Degree', 'Stream',\n",
    "       'Current Year Of Graduation']"
   ]
  },
  {
   "cell_type": "code",
   "execution_count": 38,
   "metadata": {},
   "outputs": [],
   "source": [
    "for col in columns:\n",
    "    data[col]=data[col].astype('str')\n",
    "    data[col]=lben.fit_transform(data[col])\n",
    "    \n",
    "\n",
    "    "
   ]
  },
  {
   "cell_type": "code",
   "execution_count": 39,
   "metadata": {},
   "outputs": [
    {
     "data": {
      "text/html": [
       "<div>\n",
       "<style scoped>\n",
       "    .dataframe tbody tr th:only-of-type {\n",
       "        vertical-align: middle;\n",
       "    }\n",
       "\n",
       "    .dataframe tbody tr th {\n",
       "        vertical-align: top;\n",
       "    }\n",
       "\n",
       "    .dataframe thead th {\n",
       "        text-align: right;\n",
       "    }\n",
       "</style>\n",
       "<table border=\"1\" class=\"dataframe\">\n",
       "  <thead>\n",
       "    <tr style=\"text-align: right;\">\n",
       "      <th></th>\n",
       "      <th>Current City</th>\n",
       "      <th>Other skills</th>\n",
       "      <th>Institute</th>\n",
       "      <th>Degree</th>\n",
       "      <th>Stream</th>\n",
       "      <th>Current Year Of Graduation</th>\n",
       "      <th>ML</th>\n",
       "      <th>web-d</th>\n",
       "      <th>fullstack-D</th>\n",
       "      <th>status</th>\n",
       "    </tr>\n",
       "  </thead>\n",
       "  <tbody>\n",
       "    <tr>\n",
       "      <th>0</th>\n",
       "      <td>162</td>\n",
       "      <td>1550</td>\n",
       "      <td>232</td>\n",
       "      <td>13</td>\n",
       "      <td>199</td>\n",
       "      <td>15</td>\n",
       "      <td>1</td>\n",
       "      <td>0</td>\n",
       "      <td>0</td>\n",
       "      <td>selected</td>\n",
       "    </tr>\n",
       "    <tr>\n",
       "      <th>1</th>\n",
       "      <td>162</td>\n",
       "      <td>1550</td>\n",
       "      <td>725</td>\n",
       "      <td>13</td>\n",
       "      <td>126</td>\n",
       "      <td>15</td>\n",
       "      <td>1</td>\n",
       "      <td>0</td>\n",
       "      <td>0</td>\n",
       "      <td>selected</td>\n",
       "    </tr>\n",
       "    <tr>\n",
       "      <th>2</th>\n",
       "      <td>141</td>\n",
       "      <td>906</td>\n",
       "      <td>400</td>\n",
       "      <td>54</td>\n",
       "      <td>262</td>\n",
       "      <td>17</td>\n",
       "      <td>1</td>\n",
       "      <td>0</td>\n",
       "      <td>0</td>\n",
       "      <td>selected</td>\n",
       "    </tr>\n",
       "    <tr>\n",
       "      <th>3</th>\n",
       "      <td>20</td>\n",
       "      <td>874</td>\n",
       "      <td>212</td>\n",
       "      <td>21</td>\n",
       "      <td>163</td>\n",
       "      <td>19</td>\n",
       "      <td>1</td>\n",
       "      <td>0</td>\n",
       "      <td>0</td>\n",
       "      <td>selected</td>\n",
       "    </tr>\n",
       "    <tr>\n",
       "      <th>4</th>\n",
       "      <td>130</td>\n",
       "      <td>250</td>\n",
       "      <td>746</td>\n",
       "      <td>13</td>\n",
       "      <td>163</td>\n",
       "      <td>17</td>\n",
       "      <td>1</td>\n",
       "      <td>0</td>\n",
       "      <td>0</td>\n",
       "      <td>selected</td>\n",
       "    </tr>\n",
       "  </tbody>\n",
       "</table>\n",
       "</div>"
      ],
      "text/plain": [
       "   Current City  Other skills  Institute  Degree  Stream  \\\n",
       "0           162          1550        232      13     199   \n",
       "1           162          1550        725      13     126   \n",
       "2           141           906        400      54     262   \n",
       "3            20           874        212      21     163   \n",
       "4           130           250        746      13     163   \n",
       "\n",
       "   Current Year Of Graduation  ML  web-d  fullstack-D    status  \n",
       "0                          15   1      0            0  selected  \n",
       "1                          15   1      0            0  selected  \n",
       "2                          17   1      0            0  selected  \n",
       "3                          19   1      0            0  selected  \n",
       "4                          17   1      0            0  selected  "
      ]
     },
     "execution_count": 39,
     "metadata": {},
     "output_type": "execute_result"
    }
   ],
   "source": [
    "data.head()"
   ]
  },
  {
   "cell_type": "code",
   "execution_count": 40,
   "metadata": {},
   "outputs": [
    {
     "data": {
      "text/html": [
       "<div>\n",
       "<style scoped>\n",
       "    .dataframe tbody tr th:only-of-type {\n",
       "        vertical-align: middle;\n",
       "    }\n",
       "\n",
       "    .dataframe tbody tr th {\n",
       "        vertical-align: top;\n",
       "    }\n",
       "\n",
       "    .dataframe thead th {\n",
       "        text-align: right;\n",
       "    }\n",
       "</style>\n",
       "<table border=\"1\" class=\"dataframe\">\n",
       "  <thead>\n",
       "    <tr style=\"text-align: right;\">\n",
       "      <th></th>\n",
       "      <th>Current City</th>\n",
       "      <th>Other skills</th>\n",
       "      <th>Institute</th>\n",
       "      <th>Degree</th>\n",
       "      <th>Stream</th>\n",
       "      <th>Current Year Of Graduation</th>\n",
       "      <th>ML</th>\n",
       "      <th>web-d</th>\n",
       "      <th>fullstack-D</th>\n",
       "    </tr>\n",
       "  </thead>\n",
       "  <tbody>\n",
       "    <tr>\n",
       "      <th>0</th>\n",
       "      <td>162</td>\n",
       "      <td>1550</td>\n",
       "      <td>232</td>\n",
       "      <td>13</td>\n",
       "      <td>199</td>\n",
       "      <td>15</td>\n",
       "      <td>1</td>\n",
       "      <td>0</td>\n",
       "      <td>0</td>\n",
       "    </tr>\n",
       "    <tr>\n",
       "      <th>1</th>\n",
       "      <td>162</td>\n",
       "      <td>1550</td>\n",
       "      <td>725</td>\n",
       "      <td>13</td>\n",
       "      <td>126</td>\n",
       "      <td>15</td>\n",
       "      <td>1</td>\n",
       "      <td>0</td>\n",
       "      <td>0</td>\n",
       "    </tr>\n",
       "    <tr>\n",
       "      <th>2</th>\n",
       "      <td>141</td>\n",
       "      <td>906</td>\n",
       "      <td>400</td>\n",
       "      <td>54</td>\n",
       "      <td>262</td>\n",
       "      <td>17</td>\n",
       "      <td>1</td>\n",
       "      <td>0</td>\n",
       "      <td>0</td>\n",
       "    </tr>\n",
       "    <tr>\n",
       "      <th>3</th>\n",
       "      <td>20</td>\n",
       "      <td>874</td>\n",
       "      <td>212</td>\n",
       "      <td>21</td>\n",
       "      <td>163</td>\n",
       "      <td>19</td>\n",
       "      <td>1</td>\n",
       "      <td>0</td>\n",
       "      <td>0</td>\n",
       "    </tr>\n",
       "    <tr>\n",
       "      <th>4</th>\n",
       "      <td>130</td>\n",
       "      <td>250</td>\n",
       "      <td>746</td>\n",
       "      <td>13</td>\n",
       "      <td>163</td>\n",
       "      <td>17</td>\n",
       "      <td>1</td>\n",
       "      <td>0</td>\n",
       "      <td>0</td>\n",
       "    </tr>\n",
       "  </tbody>\n",
       "</table>\n",
       "</div>"
      ],
      "text/plain": [
       "   Current City  Other skills  Institute  Degree  Stream  \\\n",
       "0           162          1550        232      13     199   \n",
       "1           162          1550        725      13     126   \n",
       "2           141           906        400      54     262   \n",
       "3            20           874        212      21     163   \n",
       "4           130           250        746      13     163   \n",
       "\n",
       "   Current Year Of Graduation  ML  web-d  fullstack-D  \n",
       "0                          15   1      0            0  \n",
       "1                          15   1      0            0  \n",
       "2                          17   1      0            0  \n",
       "3                          19   1      0            0  \n",
       "4                          17   1      0            0  "
      ]
     },
     "execution_count": 40,
     "metadata": {},
     "output_type": "execute_result"
    }
   ],
   "source": [
    "#model selection for prediction:\n",
    "#splitting data\n",
    "x=data.iloc[:,:9]\n",
    "y=data.iloc[:,9]\n",
    "\n",
    "x.head()\n",
    "\n",
    "\n"
   ]
  },
  {
   "cell_type": "code",
   "execution_count": 41,
   "metadata": {},
   "outputs": [
    {
     "data": {
      "text/plain": [
       "0    selected\n",
       "1    selected\n",
       "2    selected\n",
       "3    selected\n",
       "4    selected\n",
       "Name: status, dtype: object"
      ]
     },
     "execution_count": 41,
     "metadata": {},
     "output_type": "execute_result"
    }
   ],
   "source": [
    "y.head()\n"
   ]
  },
  {
   "cell_type": "code",
   "execution_count": 42,
   "metadata": {},
   "outputs": [],
   "source": [
    "#splitting in train and test"
   ]
  },
  {
   "cell_type": "code",
   "execution_count": 43,
   "metadata": {},
   "outputs": [],
   "source": [
    "x_train,x_test,y_train,y_test=train_test_split(x,y,test_size=0.2,random_state=0)"
   ]
  },
  {
   "cell_type": "code",
   "execution_count": 44,
   "metadata": {},
   "outputs": [
    {
     "data": {
      "text/plain": [
       "LogisticRegression(C=1.0, class_weight=None, dual=False, fit_intercept=True,\n",
       "                   intercept_scaling=1, l1_ratio=None, max_iter=1000,\n",
       "                   multi_class='warn', n_jobs=None, penalty='l2',\n",
       "                   random_state=None, solver='lbfgs', tol=0.0001, verbose=0,\n",
       "                   warm_start=False)"
      ]
     },
     "execution_count": 44,
     "metadata": {},
     "output_type": "execute_result"
    }
   ],
   "source": [
    "#model=svm.LinearSVC() - \n",
    "model=LogisticRegression(solver='lbfgs',max_iter=1000)\n",
    "#model=DecisionTreeClassifier(random_state=0)\n",
    "#model=RandomForestRegressor(n_estimators=20,random_state=0)\n",
    "model.fit(x_train,y_train)"
   ]
  },
  {
   "cell_type": "code",
   "execution_count": 45,
   "metadata": {},
   "outputs": [],
   "source": [
    "y_pred=model.predict(x_test)"
   ]
  },
  {
   "cell_type": "code",
   "execution_count": 81,
   "metadata": {},
   "outputs": [
    {
     "name": "stdout",
     "output_type": "stream",
     "text": [
      " the model have accuracy of : 100.0 percent\n",
      " the con fusion matrix is shown as \n",
      " [[120   0]\n",
      " [  0 314]]\n"
     ]
    }
   ],
   "source": [
    "accuracy=accuracy_score(y_test,y_pred)*100\n",
    "print(f\" the model have accuracy of : {accuracy} percent\")\n",
    "\n",
    "from sklearn.metrics import confusion_matrix\n",
    "cm=confusion_matrix(y_test,y_pred)\n",
    "print(f\" the con fusion matrix is shown as \\n {cm}\")\n"
   ]
  },
  {
   "cell_type": "code",
   "execution_count": 47,
   "metadata": {},
   "outputs": [
    {
     "name": "stdout",
     "output_type": "stream",
     "text": [
      "enter your citydelhi\n",
      "enter your skillsmachine learning\n",
      "enter your institute name:hmr\n",
      "enter your degreebtech\n",
      "enter your streamcse\n",
      "data loaded\n",
      "enter your year of graduation12\n",
      " do uwhant to pursue Internship in Ml. . enter'1' for a 'yes' and 0 for 'NO'1\n",
      "do you whant to pursue Internship for web development. enter'1' for a 'yes' and 0 for 'NO'0\n",
      "do you whant to pursue Internship as Full stack developer  enter'1' for a 'yes' and 0 for 'NO'0\n",
      "data loaded\n"
     ]
    }
   ],
   "source": [
    "#'Current City', 'Other skills', 'Institute', 'Degree', 'Stream',\n",
    "#'Current Year Of Graduation', 'ML', 'web-d', 'fullstack-D', 'status'],\n",
    "\n",
    "\n",
    "\n",
    "def get_input():\n",
    "    inp0=input(\"enter your city\")\n",
    "    inp1=input(\"enter your skills\")\n",
    "    inp2=input(\"enter your institute name:\")\n",
    "    inp3=input(\"enter your degree\")\n",
    "    inp4=input(\"enter your stream\")\n",
    "    \n",
    "    \n",
    "    print(\"data loaded\")\n",
    "    return[inp0,inp1,inp2,inp3,inp4]\n",
    "    \n",
    "    \n",
    "features=get_input()\n",
    "\n",
    "#features=pd.DataFrame(features)\n",
    "\n",
    "def interest_inp():\n",
    "    inp5=input(\"enter your year of graduation\")\n",
    "    inp6=input(\" do uwhant to pursue Internship in Ml. . enter'1' for a 'yes' and 0 for 'NO'\")\n",
    "    inp7=input(\"do you whant to pursue Internship for web development. enter'1' for a 'yes' and 0 for 'NO'\")\n",
    "    inp8=input(\"do you whant to pursue Internship as Full stack developer  enter'1' for a 'yes' and 0 for 'NO'\")\n",
    "    \n",
    "    print(\"data loaded\")\n",
    "    return[inp5,inp6,inp7,inp8]\n",
    "features_interest=interest_inp()\n"
   ]
  },
  {
   "cell_type": "code",
   "execution_count": 65,
   "metadata": {},
   "outputs": [],
   "source": [
    "new_data=[]\n",
    "\n",
    "for j in range(0,5):\n",
    "    new_data.append(features[j])\n",
    "\n",
    "    \n",
    "\n"
   ]
  },
  {
   "cell_type": "code",
   "execution_count": 66,
   "metadata": {},
   "outputs": [
    {
     "data": {
      "text/html": [
       "<div>\n",
       "<style scoped>\n",
       "    .dataframe tbody tr th:only-of-type {\n",
       "        vertical-align: middle;\n",
       "    }\n",
       "\n",
       "    .dataframe tbody tr th {\n",
       "        vertical-align: top;\n",
       "    }\n",
       "\n",
       "    .dataframe thead th {\n",
       "        text-align: right;\n",
       "    }\n",
       "</style>\n",
       "<table border=\"1\" class=\"dataframe\">\n",
       "  <thead>\n",
       "    <tr style=\"text-align: right;\">\n",
       "      <th></th>\n",
       "      <th>0</th>\n",
       "    </tr>\n",
       "  </thead>\n",
       "  <tbody>\n",
       "    <tr>\n",
       "      <th>0</th>\n",
       "      <td>2</td>\n",
       "    </tr>\n",
       "    <tr>\n",
       "      <th>1</th>\n",
       "      <td>4</td>\n",
       "    </tr>\n",
       "    <tr>\n",
       "      <th>2</th>\n",
       "      <td>3</td>\n",
       "    </tr>\n",
       "    <tr>\n",
       "      <th>3</th>\n",
       "      <td>0</td>\n",
       "    </tr>\n",
       "    <tr>\n",
       "      <th>4</th>\n",
       "      <td>1</td>\n",
       "    </tr>\n",
       "    <tr>\n",
       "      <th>0</th>\n",
       "      <td>12</td>\n",
       "    </tr>\n",
       "    <tr>\n",
       "      <th>1</th>\n",
       "      <td>1</td>\n",
       "    </tr>\n",
       "    <tr>\n",
       "      <th>2</th>\n",
       "      <td>0</td>\n",
       "    </tr>\n",
       "    <tr>\n",
       "      <th>3</th>\n",
       "      <td>0</td>\n",
       "    </tr>\n",
       "  </tbody>\n",
       "</table>\n",
       "</div>"
      ],
      "text/plain": [
       "    0\n",
       "0   2\n",
       "1   4\n",
       "2   3\n",
       "3   0\n",
       "4   1\n",
       "0  12\n",
       "1   1\n",
       "2   0\n",
       "3   0"
      ]
     },
     "execution_count": 66,
     "metadata": {},
     "output_type": "execute_result"
    }
   ],
   "source": [
    "#for j in features:\n",
    "    #new_data.append([0])\n",
    "new_df=pd.DataFrame(new_data)\n",
    "\n",
    "new_df[0]=lben.fit_transform(new_df[0])\n",
    "\n",
    "df=features_interest\n",
    "\n",
    "new_df.append(df)\n",
    "\n",
    "    \n"
   ]
  },
  {
   "cell_type": "code",
   "execution_count": 67,
   "metadata": {},
   "outputs": [],
   "source": [
    "Inp=np.array(new_df)\n",
    "\n",
    "Inp=np.append(Inp,df)\n",
    "\n",
    "Inp=np.reshape(Inp,(1,9))\n",
    "Inp=Inp.astype(np.float64)\n"
   ]
  },
  {
   "cell_type": "code",
   "execution_count": 69,
   "metadata": {},
   "outputs": [],
   "source": [
    "def predict_status(Inp,model=model):\n",
    "    status=model.predict(Inp)\n",
    "    print(\"this is \", status)\n",
    "    return status    \n",
    "    \n",
    "    "
   ]
  },
  {
   "cell_type": "code",
   "execution_count": 70,
   "metadata": {},
   "outputs": [
    {
     "name": "stdout",
     "output_type": "stream",
     "text": [
      "this is  ['selected']\n"
     ]
    }
   ],
   "source": [
    "status=predict_status(Inp)"
   ]
  },
  {
   "cell_type": "code",
   "execution_count": 71,
   "metadata": {},
   "outputs": [],
   "source": [
    "import re\n",
    "pattern=r\"machine learning\""
   ]
  },
  {
   "cell_type": "code",
   "execution_count": 72,
   "metadata": {},
   "outputs": [],
   "source": [
    "text=\"web developer, html,css, bootstrap,Ajax, javascript, php,mysql, rest api, aws, gcp git hub,\\n python , linux, json, full stack, developer,\\n mongodb, express, react.js, node.js, Es6,javascript, python, linux, json, tenserflow, pytorch, numpy, pyPI, \\n sci-kit learn, statistical  modeling ,machine learning, deep learning, flask \""
   ]
  },
  {
   "cell_type": "code",
   "execution_count": 73,
   "metadata": {},
   "outputs": [],
   "source": [
    "match= re.search(pattern,text)"
   ]
  },
  {
   "cell_type": "code",
   "execution_count": 74,
   "metadata": {},
   "outputs": [
    {
     "data": {
      "text/plain": [
       "(287, 303)"
      ]
     },
     "execution_count": 74,
     "metadata": {},
     "output_type": "execute_result"
    }
   ],
   "source": [
    "match.span()\n"
   ]
  },
  {
   "cell_type": "code",
   "execution_count": 57,
   "metadata": {},
   "outputs": [
    {
     "data": {
      "text/plain": [
       "287"
      ]
     },
     "execution_count": 57,
     "metadata": {},
     "output_type": "execute_result"
    }
   ],
   "source": [
    "match.start()"
   ]
  },
  {
   "cell_type": "code",
   "execution_count": 58,
   "metadata": {},
   "outputs": [
    {
     "data": {
      "text/plain": [
       "'web developer, html,css, bootstrap,Ajax, javascript, php,mysql, rest api, aws, gcp git hub,\\n python , linux, json, full stack, developer,\\n mongodb, express, react.js, node.js, Es6,javascript, python, linux, json, tenserflow, pytorch, numpy, pyPI, \\n sci-kit learn, statistical  modeling ,machine learning, deep learning, flask '"
      ]
     },
     "execution_count": 58,
     "metadata": {},
     "output_type": "execute_result"
    }
   ],
   "source": [
    "from difflib import get_close_matches\n",
    "text"
   ]
  },
  {
   "cell_type": "code",
   "execution_count": 59,
   "metadata": {},
   "outputs": [],
   "source": [
    "def find_string(text, pattern):\n",
    "    print(get_close_matches(text,pattern))\n",
    "    return [match]\n",
    "    "
   ]
  },
  {
   "cell_type": "code",
   "execution_count": 60,
   "metadata": {},
   "outputs": [
    {
     "name": "stdout",
     "output_type": "stream",
     "text": [
      "[]\n"
     ]
    },
    {
     "data": {
      "text/plain": [
       "[<re.Match object; span=(287, 303), match='machine learning'>]"
      ]
     },
     "execution_count": 60,
     "metadata": {},
     "output_type": "execute_result"
    }
   ],
   "source": [
    "find_string(features[1],text)"
   ]
  },
  {
   "cell_type": "code",
   "execution_count": 61,
   "metadata": {},
   "outputs": [
    {
     "data": {
      "text/plain": [
       "<re.Match object; span=(287, 303), match='machine learning'>"
      ]
     },
     "execution_count": 61,
     "metadata": {},
     "output_type": "execute_result"
    }
   ],
   "source": [
    "match"
   ]
  },
  {
   "cell_type": "code",
   "execution_count": 62,
   "metadata": {},
   "outputs": [
    {
     "data": {
      "text/plain": [
       "(287, 303)"
      ]
     },
     "execution_count": 62,
     "metadata": {},
     "output_type": "execute_result"
    }
   ],
   "source": [
    "match.span()"
   ]
  },
  {
   "cell_type": "code",
   "execution_count": 77,
   "metadata": {},
   "outputs": [],
   "source": [
    "def print_missing(match, text,status):\n",
    "    print(f\" you possess ...  { match.group()} skill\")\n",
    "    print(f\"\\n and we are looking for {text} skills \")\n",
    "    \n",
    "    print(\"\\n 1)\tWeb Developer: HTML, CSS, Bootstrap, AJAX, JavaScript, PHP, MySQL, REST API, AWS/GCP, Git/GitHub, Python, Linux, JSON, Authentication/Authorization (JWT) \")\n",
    "    print(\"\\n 2)\tFullStack Developer: HTML, CSS, MongoDB, Express, React.js, Node.js, ES6, Redux, JavaScript, AWS/GCP, Python, Linux, JSON, Authentication/Authorization (JWT)\")\n",
    "    print(\"\\n 3)\tML Developer: Python, TensorFlow, PyTorch, NumPy, PyPI, Sci-kit learn, Statistical Modelling, Machine Learning, Deep Learning, SQL, JSON, AWS/GCP/Heroku, Flask\")\n",
    "    print(f\"\\n \\n so you are { status } for next round \")\n",
    "    \n",
    "    "
   ]
  },
  {
   "cell_type": "code",
   "execution_count": 78,
   "metadata": {},
   "outputs": [
    {
     "name": "stdout",
     "output_type": "stream",
     "text": [
      " you possess ...  machine learning skill\n",
      "\n",
      " and we are looking for web developer, html,css, bootstrap,Ajax, javascript, php,mysql, rest api, aws, gcp git hub,\n",
      " python , linux, json, full stack, developer,\n",
      " mongodb, express, react.js, node.js, Es6,javascript, python, linux, json, tenserflow, pytorch, numpy, pyPI, \n",
      " sci-kit learn, statistical  modeling ,machine learning, deep learning, flask  skills \n",
      "\n",
      " 1)\tWeb Developer: HTML, CSS, Bootstrap, AJAX, JavaScript, PHP, MySQL, REST API, AWS/GCP, Git/GitHub, Python, Linux, JSON, Authentication/Authorization (JWT) \n",
      "\n",
      " 2)\tFullStack Developer: HTML, CSS, MongoDB, Express, React.js, Node.js, ES6, Redux, JavaScript, AWS/GCP, Python, Linux, JSON, Authentication/Authorization (JWT)\n",
      "\n",
      " 3)\tML Developer: Python, TensorFlow, PyTorch, NumPy, PyPI, Sci-kit learn, Statistical Modelling, Machine Learning, Deep Learning, SQL, JSON, AWS/GCP/Heroku, Flask\n",
      "\n",
      " \n",
      " so you are ['selected'] for next round \n"
     ]
    }
   ],
   "source": [
    "print_missing(match, text, status)"
   ]
  },
  {
   "cell_type": "code",
   "execution_count": null,
   "metadata": {},
   "outputs": [],
   "source": []
  }
 ],
 "metadata": {
  "kernelspec": {
   "display_name": "Python 3",
   "language": "python",
   "name": "python3"
  },
  "language_info": {
   "codemirror_mode": {
    "name": "ipython",
    "version": 3
   },
   "file_extension": ".py",
   "mimetype": "text/x-python",
   "name": "python",
   "nbconvert_exporter": "python",
   "pygments_lexer": "ipython3",
   "version": "3.7.3"
  }
 },
 "nbformat": 4,
 "nbformat_minor": 2
}
