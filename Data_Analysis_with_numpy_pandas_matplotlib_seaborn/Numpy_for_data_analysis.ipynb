{
 "cells": [
  {
   "cell_type": "code",
   "execution_count": 2,
   "metadata": {},
   "outputs": [],
   "source": [
    "import numpy as np\n",
    "import pandas as pd\n"
   ]
  },
  {
   "cell_type": "markdown",
   "metadata": {},
   "source": [
    "### creating a array using numpy"
   ]
  },
  {
   "cell_type": "code",
   "execution_count": 3,
   "metadata": {},
   "outputs": [
    {
     "name": "stdout",
     "output_type": "stream",
     "text": [
      "[[1 3 6]\n",
      " [4 5 2]]\n"
     ]
    }
   ],
   "source": [
    "arr = np.array([[1,3,6],[4,5,2]])\n",
    "print(arr)"
   ]
  },
  {
   "cell_type": "code",
   "execution_count": 8,
   "metadata": {},
   "outputs": [
    {
     "name": "stdout",
     "output_type": "stream",
     "text": [
      "2 (2, 3) 6 int32 4 24\n"
     ]
    }
   ],
   "source": [
    "# np array() functions \n",
    "# ndim : Returns number of dimensions.\n",
    "\n",
    "# shape: Returns Shape in tuple.\n",
    "\n",
    "# size : Total number of elements.\n",
    "\n",
    "# dtype : Type of each element.\n",
    "\n",
    "# itemsize : Size of each element in Bytes.\n",
    "\n",
    "# nbytes : Total bytes consumed by all elements.\n",
    "\n",
    "# Example 3\n",
    "\n",
    "print(arr.ndim, arr.shape, arr.size, arr.dtype, arr.itemsize, arr.nbytes)"
   ]
  },
  {
   "cell_type": "code",
   "execution_count": 25,
   "metadata": {},
   "outputs": [
    {
     "name": "stdout",
     "output_type": "stream",
     "text": [
      "(1, 3, 2)\n",
      "[[[1 2]\n",
      "  [4 2]\n",
      "  [2 1]]]\n"
     ]
    },
    {
     "data": {
      "text/plain": [
       "array([[[1],\n",
       "        [4],\n",
       "        [2]],\n",
       "\n",
       "       [[2],\n",
       "        [2],\n",
       "        [1]]])"
      ]
     },
     "execution_count": 25,
     "metadata": {},
     "output_type": "execute_result"
    }
   ],
   "source": [
    "a = np.array([[[1,2],[4,2],[2,1]]])\n",
    "print(a.shape)\n",
    "print(a)\n",
    "a.transpose()\n"
   ]
  },
  {
   "cell_type": "code",
   "execution_count": 23,
   "metadata": {},
   "outputs": [
    {
     "data": {
      "text/plain": [
       "array([[[ 1,  2],\n",
       "        [ 3,  4],\n",
       "        [ 5,  6]],\n",
       "\n",
       "       [[ 7,  8],\n",
       "        [ 9, 10],\n",
       "        [11, 12]]])"
      ]
     },
     "execution_count": 23,
     "metadata": {},
     "output_type": "execute_result"
    }
   ],
   "source": [
    "b = np.arange(1,13)\n",
    "b.reshape(2,3,2)"
   ]
  },
  {
   "cell_type": "markdown",
   "metadata": {},
   "source": [
    "###### creating array with zeros, ones, fill and empty functions\n"
   ]
  },
  {
   "cell_type": "code",
   "execution_count": 45,
   "metadata": {},
   "outputs": [
    {
     "data": {
      "text/plain": [
       "array([[0, 0, 0, 0],\n",
       "       [0, 0, 0, 0]])"
      ]
     },
     "execution_count": 45,
     "metadata": {},
     "output_type": "execute_result"
    }
   ],
   "source": [
    "arr = np.zeros((2,4),dtype=\"int\")\n",
    "arr"
   ]
  },
  {
   "cell_type": "code",
   "execution_count": 42,
   "metadata": {},
   "outputs": [
    {
     "data": {
      "text/plain": [
       "array([[['1', '1', '1', '1'],\n",
       "        ['1', '1', '1', '1']],\n",
       "\n",
       "       [['1', '1', '1', '1'],\n",
       "        ['1', '1', '1', '1']],\n",
       "\n",
       "       [['1', '1', '1', '1'],\n",
       "        ['1', '1', '1', '1']]], dtype='<U1')"
      ]
     },
     "execution_count": 42,
     "metadata": {},
     "output_type": "execute_result"
    }
   ],
   "source": [
    "arr = np.ones((3,2,4),dtype=\"str\")\n",
    "arr"
   ]
  },
  {
   "cell_type": "code",
   "execution_count": 48,
   "metadata": {},
   "outputs": [
    {
     "data": {
      "text/plain": [
       "array(['1', '1', '1'], dtype='<U1')"
      ]
     },
     "execution_count": 48,
     "metadata": {},
     "output_type": "execute_result"
    }
   ],
   "source": [
    "# ones_like and zeros_like\n",
    "arr=np.ones_like(arr)\n",
    "#arr = np.zeros_like([\"2\",\"4\",\"3\"]) #if given a string array will return only array(['', '', ''], dtype='<U1')\n",
    "arr"
   ]
  },
  {
   "cell_type": "code",
   "execution_count": 53,
   "metadata": {},
   "outputs": [
    {
     "name": "stdout",
     "output_type": "stream",
     "text": [
      "[2 3 4 5 6 7 8]\n",
      "[5 5 5 5 5 5 5]\n"
     ]
    },
    {
     "data": {
      "text/plain": [
       "array([[9, 9, 9, 9],\n",
       "       [9, 9, 9, 9],\n",
       "       [9, 9, 9, 9]])"
      ]
     },
     "execution_count": 53,
     "metadata": {},
     "output_type": "execute_result"
    }
   ],
   "source": [
    "# np.fill and  np.full \n",
    "arr = np.arange(2,9) #[2 3 4 5 6 7 8]\n",
    "print(arr)\n",
    "arr.fill(5) #[5 5 5 5 5 5 5]\n",
    "print(arr)\n",
    "\n",
    "np.full(shape=(3,4),fill_value=9)"
   ]
  },
  {
   "cell_type": "code",
   "execution_count": 62,
   "metadata": {},
   "outputs": [
    {
     "name": "stdout",
     "output_type": "stream",
     "text": [
      "[[0. 0. 0. 1.]\n",
      " [0. 0. 0. 1.]\n",
      " [0. 0. 0. 1.]]\n",
      "[[0. 1. 0. 0.]\n",
      " [0. 0. 1. 0.]\n",
      " [0. 0. 0. 1.]\n",
      " [0. 0. 0. 0.]\n",
      " [0. 0. 0. 0.]]\n"
     ]
    }
   ],
   "source": [
    "# np.empty and np.eye\n",
    "arr = np.empty((3,4))\n",
    "print(arr)\n",
    "\n",
    "# eye fun returns the array filled with zeros except for the diagonal k value represents the filled diagonal\n",
    "# syntax => np.eye(row,col,k=0,dtype=float) k can take values 1,0,-1 for upper main and lower diagonal respectively\n",
    "arr = np.eye(5,4,k=1)\n",
    "print(arr)"
   ]
  },
  {
   "cell_type": "markdown",
   "metadata": {},
   "source": [
    "###### arange, linspace, reshape, flatten and ravel functions"
   ]
  },
  {
   "cell_type": "code",
   "execution_count": 65,
   "metadata": {},
   "outputs": [
    {
     "name": "stdout",
     "output_type": "stream",
     "text": [
      "[ 0  2  4  6  8 10 12 14 16 18]\n",
      "[2.  3.5 5.  6.5 8. ]\n"
     ]
    }
   ],
   "source": [
    "#arange vs linspace \n",
    "\n",
    "# arange --> np.arange(start, stop, step, …)\n",
    "# start: The starting value of the sequence\n",
    "# stop: The end value of the sequence\n",
    "# step: The spacing between values\n",
    "#create sequence of values between 0 and 20 where spacing is 2\n",
    "arr = np.arange(0, 20, 2)\n",
    "print(arr)\n",
    "\n",
    "# linspace --> np.linspace(start, stop, num, …)\n",
    "# start: The starting value of the sequence\n",
    "# stop: The end value of the sequence\n",
    "# num: the number of values to generate\n",
    "\n",
    "#create sequence of 5 evenly spaced values between 2 and 8\n",
    "arr = np.linspace(2,8,5)\n",
    "print(arr)"
   ]
  },
  {
   "cell_type": "code",
   "execution_count": 70,
   "metadata": {},
   "outputs": [
    {
     "name": "stdout",
     "output_type": "stream",
     "text": [
      "[[0 1 2 3 4]\n",
      " [5 6 7 8 9]]\n",
      "[[ 1.          6.44444444]\n",
      " [11.88888889 17.33333333]\n",
      " [22.77777778 28.22222222]\n",
      " [33.66666667 39.11111111]\n",
      " [44.55555556 50.        ]]\n"
     ]
    }
   ],
   "source": [
    "# reshape \n",
    "#syntax --> numpy.reshape(array, shape, order = 'C')\n",
    "arr = np.arange(0,10)\n",
    "print(arr.reshape(2,5))\n",
    "\n",
    "arr = np.linspace(1,50,10).reshape(5,2)\n",
    "print(arr)"
   ]
  },
  {
   "cell_type": "code",
   "execution_count": 80,
   "metadata": {
    "scrolled": false
   },
   "outputs": [
    {
     "name": "stdout",
     "output_type": "stream",
     "text": [
      "[[[1. 1. 1. 1.]\n",
      "  [1. 1. 1. 1.]]\n",
      "\n",
      " [[1. 1. 1. 1.]\n",
      "  [1. 1. 1. 1.]]\n",
      "\n",
      " [[1. 1. 1. 1.]\n",
      "  [1. 1. 1. 1.]]]\n",
      "[1. 1. 1. 1. 1. 1. 1. 1. 1. 1. 1. 1. 1. 1. 1. 1. 1. 1. 1. 1. 1. 1. 1. 1.]\n",
      "[[0 1 2 3 4]\n",
      " [5 6 7 8 9]]\n"
     ]
    },
    {
     "data": {
      "text/plain": [
       "array([0, 1, 2, 3, 4, 5, 6, 7, 8, 9])"
      ]
     },
     "execution_count": 80,
     "metadata": {},
     "output_type": "execute_result"
    }
   ],
   "source": [
    "#flatten and ravel \n",
    "#flatten\n",
    "arr = np.ones((3,2,4))\n",
    "print(arr)\n",
    "print(arr.flatten())\n",
    "\n",
    "#ravelf\n",
    "arr=np.arange(10).reshape(2,5)\n",
    "print(arr)\n",
    "arr.ravel()"
   ]
  },
  {
   "cell_type": "markdown",
   "metadata": {},
   "source": [
    "**Difference between ravel and flatten**\n",
    "<table>\n",
    "    <thead>\n",
    "    <th>Ravel</th>\n",
    "    <th>flatten</th>\n",
    "    </thead>\n",
    "    <tbody>\n",
    "        <tr>\n",
    "            <td>Return only reference/view of the original array</td>\n",
    "            <td>Return copy of the original array</td>\n",
    "        </tr>\n",
    "          <tr>\n",
    "            <td>If you modify the array you would notice that the value of the original array also changes.</td>\n",
    "            <td>If you modify any value of this array value of the original array is not affected.</td>\n",
    "        </tr>\n",
    "         <tr>\n",
    "            <td>Ravel is faster than flatten() as it does not occupy any memory.</td>\n",
    "            <td>Flatten() is comparatively slower than ravel() as it occupies memory</td>\n",
    "        </tr>\n",
    "         <tr>\n",
    "            <td>Ravel is a library-level function. </td>\n",
    "            <td>\tFlatten is a method of an ndarray object. Let us check out the difference in this code.</td>\n",
    "        </tr>\n",
    "    </tbody>\n",
    "    \n",
    "</table>\n"
   ]
  },
  {
   "cell_type": "markdown",
   "metadata": {},
   "source": [
    "### Array Slicing "
   ]
  },
  {
   "cell_type": "code",
   "execution_count": 102,
   "metadata": {},
   "outputs": [
    {
     "name": "stdout",
     "output_type": "stream",
     "text": [
      "[[ 0  1  2  3  4]\n",
      " [ 5  6  7  8  9]\n",
      " [10 11 12 13 14]\n",
      " [15 16 17 18 19]\n",
      " [20 21 22 23 24]\n",
      " [25 26 27 28 29]\n",
      " [30 31 32 33 34]\n",
      " [35 36 37 38 39]\n",
      " [40 41 42 43 44]\n",
      " [45 46 47 48 49]]\n",
      "\n",
      "\n",
      "array ate index 4\n",
      " [20 21 22 23 24]\n",
      "\n",
      "array index [3,4] - 19\n",
      "\n",
      "slice arr[2:4] -\n",
      " [[10 11 12 13 14]\n",
      " [15 16 17 18 19]]\n",
      "\n",
      " slice arr[2:5,1:4]\n",
      " [[11 12 13]\n",
      " [16 17 18]\n",
      " [21 22 23]]\n",
      "\n",
      " slice arr[3:6,3]\n",
      " [17 22 27]\n"
     ]
    }
   ],
   "source": [
    "arr = np.arange(50).reshape(10,5)\n",
    "print(arr)\n",
    "print(\"\\n\")\n",
    "print(\"array ate index 4\\n\",arr[4])\n",
    "print(\"\\narray index [3,4] -\",arr[3,4])\n",
    "print(\"\\nslice arr[2:4] -\\n\",arr[2:4]) # will print till [m:n-1]\n",
    "print(\"\\n slice arr[2:5,1:4]\\n\", arr[2:5,1:4])\n",
    "print(\"\\n slice arr[3:6,3]\\n\", arr[3:6,2])"
   ]
  },
  {
   "cell_type": "markdown",
   "metadata": {},
   "source": [
    "#### Basic Numpy operations on arrays\n",
    "\n",
    "* Note : all operations performed (+,-,*,/,%,etc) are element wise operations \n"
   ]
  },
  {
   "cell_type": "code",
   "execution_count": 114,
   "metadata": {},
   "outputs": [
    {
     "name": "stdout",
     "output_type": "stream",
     "text": [
      "[[0 1 2]\n",
      " [3 4 5]] \n",
      " [[ 7  8  9]\n",
      " [10 11 12]]\n",
      "\n",
      " a+b\n",
      " [[ 7  9 11]\n",
      " [13 15 17]]\n",
      " a-b \n",
      " [[-7 -7 -7]\n",
      " [-7 -7 -7]]\n",
      " a*b\n",
      " [[ 0  8 18]\n",
      " [30 44 60]]\n",
      " a/b\n",
      " [[0.         0.125      0.22222222]\n",
      " [0.3        0.36363636 0.41666667]]\n",
      " a%b \n",
      " [[0 1 2]\n",
      " [3 4 5]]\n"
     ]
    }
   ],
   "source": [
    "a = np.arange(6).reshape(2,3)\n",
    "b = np.arange(7,13).reshape(2,3)\n",
    "\n",
    "print(a,\"\\n\",b)\n",
    "print()\n",
    "print(\" a+b\\n\",a+b) #or np.add(a,b)\n",
    "\n",
    "# similary we can perform\n",
    "print(\" a-b \\n\",a-b) #or np.substract(a,b)\n",
    "print(\" a*b\\n\",a*b) #or np.multipy(a,b)\n",
    "print(\" a/b\\n\",a/b) #or np.divide(a,b)\n",
    "print(\" a%b \\n\",a%b)"
   ]
  },
  {
   "cell_type": "code",
   "execution_count": 117,
   "metadata": {},
   "outputs": [
    {
     "name": "stdout",
     "output_type": "stream",
     "text": [
      "matrix multiply a@b \n",
      " [[10 11 12]\n",
      " [44 49 54]\n",
      " [78 87 96]]\n"
     ]
    }
   ],
   "source": [
    "# to do a matrix multiplication we do a@b \n",
    "# arr shape [a,b] [c,d] b must be equal to c for doing a matrix multiply  and resultant arr will be of shape [a,d]\n",
    "a = np.arange(6).reshape(3,2)\n",
    "b = np.arange(7,13).reshape(2,3)\n",
    "print(\"matrix multiply a@b \\n\",a@b) # or a.dot(b)"
   ]
  },
  {
   "cell_type": "code",
   "execution_count": 124,
   "metadata": {},
   "outputs": [
    {
     "name": "stdout",
     "output_type": "stream",
     "text": [
      "[[ 0  1  2  3  4]\n",
      " [ 5  6  7  8  9]\n",
      " [10 11 12 13 14]\n",
      " [15 16 17 18 19]\n",
      " [20 21 22 23 24]\n",
      " [25 26 27 28 29]\n",
      " [30 31 32 33 34]\n",
      " [35 36 37 38 39]\n",
      " [40 41 42 43 44]\n",
      " [45 46 47 48 49]]\n",
      "0\n",
      "49\n",
      "49\n",
      "0\n"
     ]
    }
   ],
   "source": [
    "# to find min and max from arr just use min and mx functions \n",
    "print(arr)\n",
    "print(arr.min())\n",
    "print(arr.max())\n",
    "\n",
    "#print index of max/min number use argmax/argmin\n",
    "print(arr.argmax())\n",
    "print(arr.argmin())"
   ]
  },
  {
   "cell_type": "code",
   "execution_count": 133,
   "metadata": {},
   "outputs": [
    {
     "name": "stdout",
     "output_type": "stream",
     "text": [
      "[[ 0  1  2  3  4]\n",
      " [ 5  6  7  8  9]\n",
      " [10 11 12 13 14]\n",
      " [15 16 17 18 19]\n",
      " [20 21 22 23 24]\n",
      " [25 26 27 28 29]\n",
      " [30 31 32 33 34]\n",
      " [35 36 37 38 39]\n",
      " [40 41 42 43 44]\n",
      " [45 46 47 48 49]]\n",
      "\n",
      "arr sum of each element - 1225\n",
      "\n",
      "arr sum of each row - [ 10  35  60  85 110 135 160 185 210 235]\n",
      "\n",
      "arr sum of each column - [225 235 245 255 265]\n"
     ]
    }
   ],
   "source": [
    "# calculating sum\n",
    "print(arr)\n",
    "print(\"\\narr sum of each element -\",arr.sum()) # or np.sum(arr)\n",
    "print(\"\\narr sum of each row -\",arr.sum(axis=1)) # or np.sum(arr,axis=1)\n",
    "print(\"\\narr sum of each column -\",arr.sum(axis=0)) # or np.sum(arr,axis=0)"
   ]
  },
  {
   "cell_type": "markdown",
   "metadata": {},
   "source": [
    "#### Random Function for creating Np array with random values\n",
    " * random module of numpy is used to generate various random sequences.\n",
    " \n",
    " \n",
    " * Note: Random.seed() - The numpy random seed is a numerical value that generates a new set or repeats pseudo-random numbers. The value in the numpy random seed saves the state of randomness. If we call the seed function using value 1 multiple times, the computer displays the same random numbers"
   ]
  },
  {
   "cell_type": "markdown",
   "metadata": {},
   "source": [
    "###### Rand(), randInt(), randn()\n",
    "* np.rand() - rand() takes shape of array as arguments and returns numbers between 0-1\n",
    "\n",
    "</br>\n",
    "\n",
    "* np.randn() -randn() is used to simulate standard normal distribution.takes shape of array as arguments and returns numbers between 0-1\n",
    "\n",
    "</br>\n",
    "\n",
    "* np.randint() - np.random.randint returns a random numpy array or scalar, whose element(s) is int, drawn randomly from low (inclusive) to the high (exclusive) range.\\\n",
    "    Syntax\\\n",
    "    np.random.randint(low, high=None, size=None, dtype=’l’)"
   ]
  },
  {
   "cell_type": "code",
   "execution_count": 7,
   "metadata": {},
   "outputs": [
    {
     "name": "stdout",
     "output_type": "stream",
     "text": [
      "[0.07630829 0.77991879 0.43840923 0.72346518 0.97798951]\n",
      "[[0.53849587 0.50112046 0.07205113 0.26843898]\n",
      " [0.4998825  0.67923    0.80373904 0.38094113]\n",
      " [0.06593635 0.2881456  0.90959353 0.21338535]]\n"
     ]
    }
   ],
   "source": [
    "# setting seed \n",
    "np.random.seed(7)\n",
    "\n",
    "# creating random array of 5 numbers using random.rand - rand() returns numbers between 0-1 \n",
    "arr = np.random.rand(5)\n",
    "print(arr)\n",
    "\n",
    "# 2D Array  \n",
    "array = np.random.rand(3, 4)\n",
    "print(array)"
   ]
  },
  {
   "cell_type": "code",
   "execution_count": 19,
   "metadata": {},
   "outputs": [
    {
     "name": "stdout",
     "output_type": "stream",
     "text": [
      "[ 1.6905257  -0.46593737  0.03282016  0.40751628 -0.78892303]\n",
      "\n",
      " random normal distribution of (3,5) shape \n",
      " [[ 2.06557291e-03 -8.90385858e-04 -1.75472431e+00  1.01765801e+00\n",
      "   6.00498516e-01]\n",
      " [-6.25428974e-01 -1.71548261e-01  5.05299374e-01 -2.61356415e-01\n",
      "  -2.42749079e-01]\n",
      " [-1.45324141e+00  5.54580312e-01  1.23880905e-01  2.74459924e-01\n",
      "  -1.52652453e+00]]\n",
      "\n",
      " random normal distribution with mean 10 and sd 2 \n",
      " [13.30139938 10.30867107  9.22572011]\n"
     ]
    }
   ],
   "source": [
    "# Standard normal distribution\n",
    "# setting seed \n",
    "np.random.seed(7)\n",
    "arr = np.random.randn(5) \n",
    "print(arr)\n",
    "\n",
    "# 2D\n",
    "arr = np.random.randn(3,5)\n",
    "print(\"\\n random normal distribution of (3,5) shape \\n\",arr)\n",
    "\n",
    "# normal distribution with mean 10 and sd 2\n",
    "x = 10 + 2*np.random.randn(3)\n",
    "print(\"\\n random normal distribution with mean 10 and sd 2 \\n\",x)\n",
    "\n",
    "# same example using normal ()\n",
    "# syntx = np.random.normal(loc=0.0, scale=1.0, size=None) where loc = mean, and scale = sd\n",
    "# arr = np.random.normal(10,2,(3,2))"
   ]
  },
  {
   "cell_type": "code",
   "execution_count": 26,
   "metadata": {},
   "outputs": [
    {
     "data": {
      "text/plain": [
       "array([[1, 6],\n",
       "       [5, 4]])"
      ]
     },
     "execution_count": 26,
     "metadata": {},
     "output_type": "execute_result"
    }
   ],
   "source": [
    "# Randint()\n",
    "# np.randint() - np.random.randint returns a random numpy array or scalar, whose element(s) is int, drawn randomly from low (inclusive) to the high (exclusive) range.\n",
    "# Syntax - np.random.randint(low, high=None, size=None, dtype=’l’)\n",
    "arr = np.random.randint(1,10,(2,2))\n",
    "arr"
   ]
  },
  {
   "cell_type": "markdown",
   "metadata": {},
   "source": [
    "* Random.choice() - np.random.choice returns a numpy array or a scalar by drawing random samples from a given 1-D array\n",
    "\n",
    "Syntax\n",
    "\n",
    "np.random.choice(a, size=None, replace=True, p=None)\n",
    "\n",
    "* where a = 1-D array-like tuple/list/int to choose from"
   ]
  },
  {
   "cell_type": "code",
   "execution_count": 29,
   "metadata": {},
   "outputs": [
    {
     "data": {
      "text/plain": [
       "array([[1, 7, 1, 7],\n",
       "       [7, 7, 4, 1]])"
      ]
     },
     "execution_count": 29,
     "metadata": {},
     "output_type": "execute_result"
    }
   ],
   "source": [
    "# choice example\n",
    "arr = np.random.choice([2,7,4,1,8],(2,4))\n",
    "arr"
   ]
  }
 ],
 "metadata": {
  "kernelspec": {
   "display_name": "Python 3",
   "language": "python",
   "name": "python3"
  },
  "language_info": {
   "codemirror_mode": {
    "name": "ipython",
    "version": 3
   },
   "file_extension": ".py",
   "mimetype": "text/x-python",
   "name": "python",
   "nbconvert_exporter": "python",
   "pygments_lexer": "ipython3",
   "version": "3.7.3"
  }
 },
 "nbformat": 4,
 "nbformat_minor": 2
}
